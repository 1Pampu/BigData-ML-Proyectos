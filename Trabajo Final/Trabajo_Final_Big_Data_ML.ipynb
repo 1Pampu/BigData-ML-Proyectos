{
  "cells": [
    {
      "cell_type": "markdown",
      "metadata": {
        "colab_type": "text",
        "id": "view-in-github"
      },
      "source": [
        "<a href=\"https://colab.research.google.com/github/1Pampu/BigData-ML-Proyectos/blob/main/Trabajo%20Final/Trabajo_Final_Big_Data_ML.ipynb\" target=\"_parent\"><img src=\"https://colab.research.google.com/assets/colab-badge.svg\" alt=\"Open In Colab\"/></a>"
      ]
    },
    {
      "cell_type": "markdown",
      "metadata": {},
      "source": [
        "# Carga de Datos"
      ]
    },
    {
      "cell_type": "code",
      "execution_count": 16,
      "metadata": {},
      "outputs": [],
      "source": [
        "import os, shutil, gdown, zipfile\n",
        "import matplotlib.pyplot as plt\n",
        "import seaborn as sns\n",
        "import numpy as np\n",
        "from skimage.io import imread\n",
        "from skimage.transform import resize\n",
        "from sklearn.model_selection import train_test_split, cross_val_score\n",
        "from sklearn.metrics import confusion_matrix, accuracy_score, precision_score, recall_score, f1_score\n",
        "from sklearn.svm import SVC\n",
        "from sklearn.metrics import accuracy_score"
      ]
    },
    {
      "cell_type": "code",
      "execution_count": 19,
      "metadata": {
        "id": "6D4MjWAo9OYT"
      },
      "outputs": [
        {
          "name": "stderr",
          "output_type": "stream",
          "text": [
            "Downloading...\n",
            "From (uriginal): https://drive.google.com/uc?export=download&id=19ZgvHREcc3SGYST_Nczl5XiHHgwvFPbp\n",
            "From (redirected): https://drive.google.com/uc?export=download&id=19ZgvHREcc3SGYST_Nczl5XiHHgwvFPbp&confirm=t&uuid=c0c6c168-c6b7-4d57-bc51-f060a8f0fe64\n",
            "To: d:\\NextCloud\\github\\BigData-ML-Proyectos\\Trabajo Final\\downloaded_data\\dataset-xray.zip\n",
            "100%|██████████| 199M/199M [00:15<00:00, 12.5MB/s] \n"
          ]
        },
        {
          "name": "stdout",
          "output_type": "stream",
          "text": [
            "Descarga Completa!\n",
            "Extrayendo archivos...\n",
            "Datos extraidos!\n"
          ]
        }
      ],
      "source": [
        "# Crear directorio para almacenar los datos descargados\n",
        "download_dir = \"downloaded_data\"\n",
        "os.makedirs(download_dir, exist_ok=True)\n",
        "\n",
        "url = \"https://drive.google.com/uc?export=download&id=19ZgvHREcc3SGYST_Nczl5XiHHgwvFPbp\"\n",
        "output = download_dir + '/dataset-xray.zip'\n",
        "gdown.download(url, output , quiet = False)\n",
        "print(\"Descarga Completa!\")\n",
        "\n",
        "print(\"Extrayendo archivos...\")\n",
        "with zipfile.ZipFile(output, 'r') as zip_ref:\n",
        "    # Extrae todos los archivos en el directorio de destino\n",
        "    zip_ref.extractall(download_dir)\n",
        "print(\"Datos extraidos!\")"
      ]
    },
    {
      "cell_type": "code",
      "execution_count": 20,
      "metadata": {},
      "outputs": [
        {
          "name": "stdout",
          "output_type": "stream",
          "text": [
            "Cargando datos...\n",
            "Cargando radiografias de COVID-19...\n",
            "Cargando radiografias de NEUMONIA...\n",
            "Cargando radiografias de NORMAL...\n",
            "Todos los datos cargados!\n"
          ]
        }
      ],
      "source": [
        "# Definir las categorías\n",
        "categories = [\"COVID-19\", \"NEUMONIA\", \"NORMAL\"]\n",
        "\n",
        "# Cargar datos de las carpetas extraídas\n",
        "data = []\n",
        "label = []\n",
        "\n",
        "print(\"Cargando datos...\")\n",
        "for category in categories:\n",
        "    print(f\"Cargando radiografias de {category}...\")\n",
        "    for file in os.listdir(download_dir + \"/\" + category):\n",
        "        dir = download_dir + \"/\" + category + \"/\" + file\n",
        "        img = imread(dir, as_gray=True)\n",
        "        img = resize(img, (256, 256))\n",
        "        data.append(img.flatten())\n",
        "        label.append(categories.index(category))\n",
        "print(\"Todos los datos cargados!\")"
      ]
    },
    {
      "cell_type": "code",
      "execution_count": 21,
      "metadata": {},
      "outputs": [
        {
          "name": "stdout",
          "output_type": "stream",
          "text": [
            "Eliminando el directorio descargado...\n",
            "Directorio eliminado.\n"
          ]
        }
      ],
      "source": [
        "print(\"Eliminando el directorio descargado...\")\n",
        "shutil.rmtree(download_dir)\n",
        "print(\"Directorio eliminado.\")"
      ]
    },
    {
      "cell_type": "code",
      "execution_count": 12,
      "metadata": {},
      "outputs": [],
      "source": [
        "data = np.asarray(data)\n",
        "label = np.asarray(label)\n",
        "\n",
        "x_train, x_test, y_train, y_test = train_test_split(data, label, test_size = 0.2, shuffle = True, stratify = label, random_state = 42)"
      ]
    },
    {
      "cell_type": "markdown",
      "metadata": {},
      "source": [
        "# SVC / SVM"
      ]
    },
    {
      "cell_type": "code",
      "execution_count": 13,
      "metadata": {},
      "outputs": [
        {
          "data": {
            "text/html": [
              "<style>#sk-container-id-2 {color: black;}#sk-container-id-2 pre{padding: 0;}#sk-container-id-2 div.sk-toggleable {background-color: white;}#sk-container-id-2 label.sk-toggleable__label {cursor: pointer;display: block;width: 100%;margin-bottom: 0;padding: 0.3em;box-sizing: border-box;text-align: center;}#sk-container-id-2 label.sk-toggleable__label-arrow:before {content: \"▸\";float: left;margin-right: 0.25em;color: #696969;}#sk-container-id-2 label.sk-toggleable__label-arrow:hover:before {color: black;}#sk-container-id-2 div.sk-estimator:hover label.sk-toggleable__label-arrow:before {color: black;}#sk-container-id-2 div.sk-toggleable__content {max-height: 0;max-width: 0;overflow: hidden;text-align: left;background-color: #f0f8ff;}#sk-container-id-2 div.sk-toggleable__content pre {margin: 0.2em;color: black;border-radius: 0.25em;background-color: #f0f8ff;}#sk-container-id-2 input.sk-toggleable__control:checked~div.sk-toggleable__content {max-height: 200px;max-width: 100%;overflow: auto;}#sk-container-id-2 input.sk-toggleable__control:checked~label.sk-toggleable__label-arrow:before {content: \"▾\";}#sk-container-id-2 div.sk-estimator input.sk-toggleable__control:checked~label.sk-toggleable__label {background-color: #d4ebff;}#sk-container-id-2 div.sk-label input.sk-toggleable__control:checked~label.sk-toggleable__label {background-color: #d4ebff;}#sk-container-id-2 input.sk-hidden--visually {border: 0;clip: rect(1px 1px 1px 1px);clip: rect(1px, 1px, 1px, 1px);height: 1px;margin: -1px;overflow: hidden;padding: 0;position: absolute;width: 1px;}#sk-container-id-2 div.sk-estimator {font-family: monospace;background-color: #f0f8ff;border: 1px dotted black;border-radius: 0.25em;box-sizing: border-box;margin-bottom: 0.5em;}#sk-container-id-2 div.sk-estimator:hover {background-color: #d4ebff;}#sk-container-id-2 div.sk-parallel-item::after {content: \"\";width: 100%;border-bottom: 1px solid gray;flex-grow: 1;}#sk-container-id-2 div.sk-label:hover label.sk-toggleable__label {background-color: #d4ebff;}#sk-container-id-2 div.sk-serial::before {content: \"\";position: absolute;border-left: 1px solid gray;box-sizing: border-box;top: 0;bottom: 0;left: 50%;z-index: 0;}#sk-container-id-2 div.sk-serial {display: flex;flex-direction: column;align-items: center;background-color: white;padding-right: 0.2em;padding-left: 0.2em;position: relative;}#sk-container-id-2 div.sk-item {position: relative;z-index: 1;}#sk-container-id-2 div.sk-parallel {display: flex;align-items: stretch;justify-content: center;background-color: white;position: relative;}#sk-container-id-2 div.sk-item::before, #sk-container-id-2 div.sk-parallel-item::before {content: \"\";position: absolute;border-left: 1px solid gray;box-sizing: border-box;top: 0;bottom: 0;left: 50%;z-index: -1;}#sk-container-id-2 div.sk-parallel-item {display: flex;flex-direction: column;z-index: 1;position: relative;background-color: white;}#sk-container-id-2 div.sk-parallel-item:first-child::after {align-self: flex-end;width: 50%;}#sk-container-id-2 div.sk-parallel-item:last-child::after {align-self: flex-start;width: 50%;}#sk-container-id-2 div.sk-parallel-item:only-child::after {width: 0;}#sk-container-id-2 div.sk-dashed-wrapped {border: 1px dashed gray;margin: 0 0.4em 0.5em 0.4em;box-sizing: border-box;padding-bottom: 0.4em;background-color: white;}#sk-container-id-2 div.sk-label label {font-family: monospace;font-weight: bold;display: inline-block;line-height: 1.2em;}#sk-container-id-2 div.sk-label-container {text-align: center;}#sk-container-id-2 div.sk-container {/* jupyter's `normalize.less` sets `[hidden] { display: none; }` but bootstrap.min.css set `[hidden] { display: none !important; }` so we also need the `!important` here to be able to override the default hidden behavior on the sphinx rendered scikit-learn.org. See: https://github.com/scikit-learn/scikit-learn/issues/21755 */display: inline-block !important;position: relative;}#sk-container-id-2 div.sk-text-repr-fallback {display: none;}</style><div id=\"sk-container-id-2\" class=\"sk-top-container\"><div class=\"sk-text-repr-fallback\"><pre>SVC(C=15)</pre><b>In a Jupyter environment, please rerun this cell to show the HTML representation or trust the notebook. <br />On GitHub, the HTML representation is unable to render, please try loading this page with nbviewer.org.</b></div><div class=\"sk-container\" hidden><div class=\"sk-item\"><div class=\"sk-estimator sk-toggleable\"><input class=\"sk-toggleable__control sk-hidden--visually\" id=\"sk-estimator-id-2\" type=\"checkbox\" checked><label for=\"sk-estimator-id-2\" class=\"sk-toggleable__label sk-toggleable__label-arrow\">SVC</label><div class=\"sk-toggleable__content\"><pre>SVC(C=15)</pre></div></div></div></div></div>"
            ],
            "text/plain": [
              "SVC(C=15)"
            ]
          },
          "execution_count": 13,
          "metadata": {},
          "output_type": "execute_result"
        }
      ],
      "source": [
        "svm_model = SVC(C = 15, kernel = \"rbf\", gamma = \"scale\")\n",
        "svm_model.fit(x_train, y_train)"
      ]
    },
    {
      "cell_type": "code",
      "execution_count": 14,
      "metadata": {},
      "outputs": [
        {
          "name": "stdout",
          "output_type": "stream",
          "text": [
            "Validación Cruzada: 90.87%\n",
            "Accuracy: 0.9173553719008265\n",
            "Precision: [0.95454545 0.96       0.86538462]\n",
            "Recall: [0.95454545 0.8        0.95744681]\n",
            "F1-score: [0.95454545 0.87272727 0.90909091]\n"
          ]
        }
      ],
      "source": [
        "# Realizamos una validación cruzada para evaluar el rendimiento del modelo\n",
        "scores = cross_val_score(svm_model, x_train, y_train, cv=5)\n",
        "average_accuracy = scores.mean()\n",
        "print(\"Validación Cruzada: {:.2f}%\".format(average_accuracy * 100))\n",
        "\n",
        "# Realizamos predicciones en el conjunto de prueba\n",
        "svc_predictions = svm_model.predict(x_test)\n",
        "\n",
        "# Calculamos accuracy\n",
        "accuracy = accuracy_score(y_test, svc_predictions)\n",
        "print(\"Accuracy:\", accuracy)\n",
        "\n",
        "# Calculamos precision\n",
        "precision = precision_score(y_test, svc_predictions, average = None)\n",
        "print(\"Precision:\", precision)\n",
        "\n",
        "# Calculamos recall\n",
        "recall = recall_score(y_test, svc_predictions, average = None)\n",
        "print(\"Recall:\", recall)\n",
        "\n",
        "# Calculamos f1-score\n",
        "f1 = f1_score(y_test, svc_predictions, average = None)\n",
        "print(\"F1-score:\", f1)"
      ]
    },
    {
      "cell_type": "code",
      "execution_count": 15,
      "metadata": {},
      "outputs": [
        {
          "data": {
            "image/png": "[encoded data removed]",
            "text/plain": [
              "<Figure size 700x500 with 2 Axes>"
            ]
          },
          "metadata": {},
          "output_type": "display_data"
        }
      ],
      "source": [
        "# Se calcula una matriz de confusión\n",
        "conf_matrix = confusion_matrix(y_test, svc_predictions)\n",
        "\n",
        "# Se crea un gráfico que muestra la matriz con anotaciones de los valores y etiquetas\n",
        "plt.figure(figsize=(7,5))\n",
        "sns.heatmap(conf_matrix, annot=True, fmt='g')\n",
        "plt.xlabel('Etiqueta predicha')\n",
        "plt.ylabel('Etiqueta verdadera')\n",
        "plt.title('Matriz de Confusión')\n",
        "\n",
        "# Mostramos la visualización de la matriz de confusión\n",
        "plt.show()"
      ]
    }
  ],
  "metadata": {
    "colab": {
      "authorship_tag": "ABX9TyOtoqcLvztlvBvV+6fBiMP4",
      "include_colab_link": true,
      "provenance": []
    },
    "kernelspec": {
      "display_name": "Python 3",
      "name": "python3"
    },
    "language_info": {
      "codemirror_mode": {
        "name": "ipython",
        "version": 3
      },
      "file_extension": ".py",
      "mimetype": "text/x-python",
      "name": "python",
      "nbconvert_exporter": "python",
      "pygments_lexer": "ipython3",
      "version": "3.10.11"
    }
  },
  "nbformat": 4,
  "nbformat_minor": 0
}
