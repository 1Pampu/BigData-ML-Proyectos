{
 "cells": [
  {
   "cell_type": "code",
   "execution_count": null,
   "metadata": {},
   "outputs": [],
   "source": [
    "import os\n",
    "import numpy as np\n",
    "from skimage.io import imread\n",
    "from skimage.transform import resize\n",
    "from sklearn.model_selection import train_test_split, GridSearchCV\n",
    "from sklearn.svm import SVC"
   ]
  },
  {
   "cell_type": "code",
   "execution_count": null,
   "metadata": {},
   "outputs": [],
   "source": [
    "categories = [\"COVID-19\", \"NEUMONIA\", \"NORMAL\"]\n",
    "\n",
    "data = []\n",
    "label = []\n",
    "\n",
    "for category in categories:\n",
    "    for file in os.listdir(category):\n",
    "        dir = category + \"/\" + file\n",
    "        img = imread(dir, as_gray=True)\n",
    "        img = resize(img, (256, 256))\n",
    "        data.append(img.flatten())\n",
    "        label.append(categories.index(category))"
   ]
  },
  {
   "cell_type": "code",
   "execution_count": null,
   "metadata": {},
   "outputs": [],
   "source": [
    "data = np.asarray(data)\n",
    "label = np.asarray(label)\n",
    "\n",
    "x_train, x_test, y_train, y_test = train_test_split(data, label, test_size = 0.2, shuffle = True, stratify = label, random_state = 42)"
   ]
  },
  {
   "cell_type": "code",
   "execution_count": null,
   "metadata": {},
   "outputs": [],
   "source": [
    "# Definimos un diccionario que especifica las combinaciones de hiperparámetros a explorar\n",
    "param_grid = {\n",
    "    'C': [0.1, 1, 10, 15],\n",
    "    'kernel': ['linear', 'rbf', 'poly', 'sigmoid'],\n",
    "    'gamma': ['scale', 'auto', 0.1, 1, 10]\n",
    "}\n",
    "\n",
    "# Creamos un modelo SVC\n",
    "grid_svc = SVC()\n",
    "\n",
    "# Creamos un objeto GridSearch para la busqueda de parametros y ajustamos a los datos de entrenamiento\n",
    "grid_search = GridSearchCV(grid_svc, param_grid, cv=5, n_jobs=-1)\n",
    "grid_search.fit(x_train, y_train)\n",
    "\n",
    "# Obtenemos los mejores hiperparametros encontrados\n",
    "best_params = grid_search.best_params_\n",
    "best_score = grid_search.best_score_\n",
    "\n",
    "# Imprimimos el mejor modelo junto a su puntuacion\n",
    "print(\"Model:\", best_params)\n",
    "print(\"Best Score:\", best_score)"
   ]
  }
 ],
 "metadata": {
  "language_info": {
   "name": "python"
  }
 },
 "nbformat": 4,
 "nbformat_minor": 2
}
