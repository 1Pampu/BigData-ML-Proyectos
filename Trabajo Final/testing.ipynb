{
 "cells": [
  {
   "cell_type": "code",
   "execution_count": 3,
   "metadata": {},
   "outputs": [],
   "source": [
    "import pandas as pd\n",
    "from itertools import combinations\n",
    "from sklearn.model_selection import train_test_split, RandomizedSearchCV, GridSearchCV\n",
    "import numpy as np\n",
    "from sklearn.linear_model import LinearRegression\n",
    "import pandas as pd\n",
    "from sklearn.linear_model import LinearRegression, Ridge, Lasso, ElasticNet\n",
    "from sklearn.svm import SVR\n",
    "from sklearn.neighbors import KNeighborsRegressor\n",
    "from sklearn.tree import DecisionTreeRegressor\n",
    "from sklearn.ensemble import RandomForestRegressor, GradientBoostingRegressor, ExtraTreesRegressor, AdaBoostRegressor\n",
    "from sklearn.kernel_ridge import KernelRidge\n",
    "from sklearn.gaussian_process import GaussianProcessRegressor\n",
    "from sklearn.linear_model import SGDRegressor\n",
    "from sklearn.neural_network import MLPRegressor\n",
    "from sklearn.model_selection import RandomizedSearchCV, train_test_split\n",
    "from sklearn.metrics import mean_squared_error\n",
    "import pandas as pd\n",
    "import matplotlib.pyplot as plt\n",
    "import seaborn as sns\n",
    "import numpy as np\n",
    "from sklearn.linear_model import LinearRegression\n",
    "from sklearn.model_selection import train_test_split, cross_val_score, GridSearchCV, RandomizedSearchCV\n",
    "from sklearn.metrics import mean_squared_error, r2_score, mean_absolute_error"
   ]
  },
  {
   "cell_type": "code",
   "execution_count": 2,
   "metadata": {},
   "outputs": [],
   "source": [
    "df = pd.read_csv(\"https://raw.githubusercontent.com/emmanueliarussi/DataScienceCapstone/master/3_MidtermProjects/ProjectIMDB/data/movie_metadata.csv\")\n",
    "df = df.dropna()\n",
    "df = df.select_dtypes(include='number')\n",
    "\n",
    "Y = df[\"imdb_score\"]\n",
    "X = df.drop(\"imdb_score\", axis=1)\n",
    "\n",
    "X_train, X_test, y_train, y_test = train_test_split(X, Y, test_size = 0.3, random_state = 42)"
   ]
  },
  {
   "cell_type": "code",
   "execution_count": 4,
   "metadata": {},
   "outputs": [],
   "source": [
    "def performance(model, columns):\n",
    "    # Realizamos una validación cruzada para evaluar el rendimiento del modelo\n",
    "    scores = cross_val_score(model, X_train[columns], y_train, cv=5, scoring = \"neg_mean_squared_error\")\n",
    "    mse_scores = -scores.mean()\n",
    "    print(\"Validación Cruzada\", mse_scores)\n",
    "\n",
    "    # Realizamos predicciones en el conjunto de prueba\n",
    "    y_pred = model.predict(X_test[columns])\n",
    "\n",
    "    mse = mean_squared_error(y_test, y_pred)\n",
    "    print(\"Error Cuadrático Medio:\", mse)\n",
    "\n",
    "    r2 = r2_score(y_test, y_pred)\n",
    "    print(\"Coeficiente de Determinación (R2):\", r2)\n",
    "\n",
    "    mae = mean_absolute_error(y_test, y_pred)\n",
    "    print(\"Error Absoluto Medio (MAE):\", mae)\n",
    "\n",
    "    rmse = np.sqrt(mse)\n",
    "    print(\"Raíz del Error Cuadrático Medio (RMSE):\", rmse)\n",
    "\n",
    "    mape = np.mean(np.abs((y_test - y_pred) / y_test)) * 100\n",
    "    print(\"Error Porcentual Absoluto Medio (MAPE):\", mape)"
   ]
  },
  {
   "cell_type": "code",
   "execution_count": 5,
   "metadata": {},
   "outputs": [
    {
     "name": "stdout",
     "output_type": "stream",
     "text": [
      "Validación Cruzada 0.7008994565189828\n",
      "Error Cuadrático Medio: 0.7467191478746089\n",
      "Coeficiente de Determinación (R2): 0.35807109631042844\n",
      "Error Absoluto Medio (MAE): 0.6620970066193868\n",
      "Raíz del Error Cuadrático Medio (RMSE): 0.8641291268523524\n",
      "Error Porcentual Absoluto Medio (MAPE): 11.746850957182623\n"
     ]
    }
   ],
   "source": [
    "columns = ['num_critic_for_reviews', 'duration', 'actor_3_facebook_likes', 'actor_1_facebook_likes', 'gross', 'num_voted_users', 'cast_total_facebook_likes', 'facenumber_in_poster', 'num_user_for_reviews', 'title_year', 'actor_2_facebook_likes', 'movie_facebook_likes']\n",
    "LR = LinearRegression()\n",
    "LR.fit(X_train[columns], y_train)\n",
    "performance(LR, columns)"
   ]
  }
 ],
 "metadata": {
  "kernelspec": {
   "display_name": "Python 3",
   "language": "python",
   "name": "python3"
  },
  "language_info": {
   "codemirror_mode": {
    "name": "ipython",
    "version": 3
   },
   "file_extension": ".py",
   "mimetype": "text/x-python",
   "name": "python",
   "nbconvert_exporter": "python",
   "pygments_lexer": "ipython3",
   "version": "3.10.11"
  }
 },
 "nbformat": 4,
 "nbformat_minor": 2
}
