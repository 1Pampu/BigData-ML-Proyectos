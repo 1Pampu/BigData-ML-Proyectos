{
 "cells": [
  {
   "cell_type": "code",
   "execution_count": 4,
   "metadata": {},
   "outputs": [],
   "source": [
    "import os\n",
    "from skimage.io import imread\n",
    "from skimage.transform import resize\n",
    "import shutil\n",
    "import gdown\n",
    "import zipfile\n"
   ]
  },
  {
   "cell_type": "markdown",
   "metadata": {},
   "source": [
    "# Testing Descargar y Extraer Archivos"
   ]
  },
  {
   "cell_type": "code",
   "execution_count": 8,
   "metadata": {},
   "outputs": [
    {
     "name": "stderr",
     "output_type": "stream",
     "text": [
      "Downloading...\n",
      "From (uriginal): https://drive.google.com/uc?export=download&id=19ZgvHREcc3SGYST_Nczl5XiHHgwvFPbp\n",
      "From (redirected): https://drive.google.com/uc?export=download&id=19ZgvHREcc3SGYST_Nczl5XiHHgwvFPbp&confirm=t&uuid=9c487d2f-c688-4e1d-b262-2d9becda8614\n",
      "To: d:\\NextCloud\\github\\BigData-ML-Proyectos\\Trabajo Final\\downloaded_data\\dataset-xray.zip\n",
      "100%|██████████| 199M/199M [00:14<00:00, 13.6MB/s] \n"
     ]
    },
    {
     "name": "stdout",
     "output_type": "stream",
     "text": [
      "Cargando datos...\n",
      "Cargando radiografias de COVID-19...\n",
      "Cargando radiografias de NEUMONIA...\n",
      "Cargando radiografias de NORMAL...\n",
      "Listo!\n",
      "Eliminando el directorio descargado...\n",
      "Directorio eliminado.\n"
     ]
    }
   ],
   "source": [
    "# Crear directorio para almacenar los datos descargados\n",
    "download_dir = \"downloaded_data\"\n",
    "os.makedirs(download_dir, exist_ok=True)\n",
    "\n",
    "url = \"https://drive.google.com/uc?export=download&id=19ZgvHREcc3SGYST_Nczl5XiHHgwvFPbp\"\n",
    "output = download_dir + '/dataset-xray.zip'\n",
    "gdown.download(url, output , quiet = False)\n",
    "\n",
    "print(\"Extrayendo archivos...\")\n",
    "with zipfile.ZipFile(output, 'r') as zip_ref:\n",
    "    # Extrae todos los archivos en el directorio de destino\n",
    "    zip_ref.extractall(download_dir)\n",
    "print(\"Listo!\")\n",
    "\n",
    "# Definir las categorías\n",
    "categories = [\"COVID-19\", \"NEUMONIA\", \"NORMAL\"]\n",
    "\n",
    "# Cargar datos de las carpetas extraídas\n",
    "data = []\n",
    "label = []\n",
    "\n",
    "print(\"Cargando datos...\")\n",
    "for category in categories:\n",
    "    print(f\"Cargando radiografias de {category}...\")\n",
    "    for file in os.listdir(category):\n",
    "        dir = category + \"/\" + file\n",
    "        img = imread(dir, as_gray=True)\n",
    "        img = resize(img, (256, 256))\n",
    "        data.append(img.flatten())\n",
    "        label.append(categories.index(category))\n",
    "print(\"Todos los datos cargados!\")\n",
    "\n",
    "print(\"Eliminando el directorio descargado...\")\n",
    "shutil.rmtree(download_dir)\n",
    "print(\"Directorio eliminado.\")"
   ]
  },
  {
   "cell_type": "code",
   "execution_count": null,
   "metadata": {},
   "outputs": [],
   "source": []
  }
 ],
 "metadata": {
  "kernelspec": {
   "display_name": "Python 3",
   "language": "python",
   "name": "python3"
  },
  "language_info": {
   "codemirror_mode": {
    "name": "ipython",
    "version": 3
   },
   "file_extension": ".py",
   "mimetype": "text/x-python",
   "name": "python",
   "nbconvert_exporter": "python",
   "pygments_lexer": "ipython3",
   "version": "3.10.11"
  }
 },
 "nbformat": 4,
 "nbformat_minor": 2
}
